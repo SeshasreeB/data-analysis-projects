{
 "cells": [
  {
   "cell_type": "markdown",
   "metadata": {},
   "source": [
    "# SQL Part 1 Studio\n",
    "\n",
    "Let's practice your SQL querying skills!  For each question, work along in the notebook adding your query and answering the questions.\n",
    "\n",
    "## Dataset\n",
    "\n",
    "We will be using the same Goodreads dataset that was used for the exercises in the prep work. Feel free to reference your exercises notebook as you work on the studio. The Kaggle dataset can be found here: [goodbooks-10k](https://www.kaggle.com/zygmunt/goodbooks-10k).\n",
    "\n",
    "You can access **BooksDB** in the Launchcode server.\n",
    "\n",
    "## Business Issue\n",
    "\n",
    "You work for a small independent book store and you want to increase sales by running a new marketing campaign. Before you can design your campaign, you need to get more familiar with what is going on with the world of book publishing. Time to get more familar with BooksDB!"
   ]
  },
  {
   "cell_type": "markdown",
   "metadata": {},
   "source": [
    "## Part 1: BooksDB Questions\n",
    "\n",
    "Question 1: Write a query of the `books` table that returns the top 100 results and includes `book_id`, `authors`, `title`, and `average_rating`. Use an alias for at least one column and sort the result set in descending order of rating. What is the number one book?"
   ]
  },
  {
   "cell_type": "code",
   "execution_count": null,
   "metadata": {
    "vscode": {
     "languageId": "sql"
    }
   },
   "outputs": [],
   "source": [
    "-- return top 100 results\n",
    "SELECT TOP 100 * FROM BooksDB"
   ]
  },
  {
   "cell_type": "markdown",
   "metadata": {},
   "source": [
    "Question 2: Write a query to find the least popular book."
   ]
  },
  {
   "cell_type": "code",
   "execution_count": null,
   "metadata": {
    "vscode": {
     "languageId": "sql"
    }
   },
   "outputs": [],
   "source": [
    "-- return least popular book\n",
    "SELECT original_title , ratings_count FROM BooksDB.dbo.books order by ratings_count --least popular(Meu Pé de Laranja Lima)\n"
   ]
  },
  {
   "cell_type": "markdown",
   "metadata": {},
   "source": [
    "Question 3: Which tag is the most popular?"
   ]
  },
  {
   "cell_type": "code",
   "execution_count": null,
   "metadata": {
    "vscode": {
     "languageId": "sql"
    }
   },
   "outputs": [],
   "source": [
    "-- return most popular tag\n",
    "SELECT top 1 tag_id,count FROM book_tags order by count desc --30574\n"
   ]
  },
  {
   "cell_type": "markdown",
   "metadata": {},
   "source": [
    "Question 4: What is the name of the most popular tag?"
   ]
  },
  {
   "cell_type": "code",
   "execution_count": null,
   "metadata": {
    "vscode": {
     "languageId": "sql"
    }
   },
   "outputs": [],
   "source": [
    "-- return name of most popular tag\n",
    "SELECT tag_name AS TagName FROM tags where tag_id =30574 --to read\n"
   ]
  },
  {
   "cell_type": "markdown",
   "metadata": {},
   "source": [
    "Question 5: How many books where released in the first decade of 2000?"
   ]
  },
  {
   "cell_type": "code",
   "execution_count": null,
   "metadata": {
    "vscode": {
     "languageId": "sql"
    }
   },
   "outputs": [],
   "source": [
    "-- return number of books published in the first decade of 2000\n",
    "select COUNT(*) AS countOfBooks_2000_Decade from books where original_publication_year between 2000 AND 2010 --3594\n"
   ]
  },
  {
   "cell_type": "markdown",
   "metadata": {},
   "source": [
    "Question 6: How many book titles contain the word, \"happy\"?"
   ]
  },
  {
   "cell_type": "code",
   "execution_count": null,
   "metadata": {
    "vscode": {
     "languageId": "sql"
    }
   },
   "outputs": [],
   "source": [
    "-- return number of books that contain the word, \"happy\"\n",
    "select COUNT(original_title) AS count_with_happy FROM books where original_title LIKE '%happy%'\n"
   ]
  },
  {
   "cell_type": "markdown",
   "metadata": {},
   "source": [
    "Question 7: List the books from the top 3 authors from Question 1.  If there is more than one author just use the first one. Sort the title alphabetically by `author` and then by `average_rating`, best rated to lowest. Does this order matter in sorting?"
   ]
  },
  {
   "cell_type": "code",
   "execution_count": null,
   "metadata": {
    "vscode": {
     "languageId": "sql"
    }
   },
   "outputs": [],
   "source": [
    "-- return all books from the top 3 authors, sort by author and rating\n",
    "SELECT title,authors,average_rating,book_id FROM books Where authors IN('Bill Watterson','J.K.Rowling','Brandon Sanderson')ORDER BY average_rating DESC,authors DESC\n"
   ]
  },
  {
   "cell_type": "markdown",
   "metadata": {},
   "source": [
    "Question 8: Write a query that returns the number of authors whose first name is between rock and roll."
   ]
  },
  {
   "cell_type": "code",
   "execution_count": null,
   "metadata": {
    "vscode": {
     "languageId": "sql"
    }
   },
   "outputs": [],
   "source": [
    "-- return number of authors whose first name is between rock and roll\n",
    "select COUNT(authors) AS authors_count from books WHERE authors BETWEEN 'rock' AND 'roll'"
   ]
  },
  {
   "cell_type": "markdown",
   "metadata": {},
   "source": [
    "## Part 2: Find the Answers to Your Own Questions\n",
    "\n",
    "Your Question:  Author and title with the lowest ratings"
   ]
  },
  {
   "cell_type": "code",
   "execution_count": null,
   "metadata": {
    "vscode": {
     "languageId": "sql"
    }
   },
   "outputs": [],
   "source": [
    "-- Add your query here\n",
    "select authors,average_rating from books order by average_rating ASC --chetan bhagat/ne Night at the Call Center"
   ]
  },
  {
   "cell_type": "markdown",
   "metadata": {},
   "source": [
    "Your Question:  what are the top 5 books in year 2000?"
   ]
  },
  {
   "cell_type": "code",
   "execution_count": null,
   "metadata": {
    "vscode": {
     "languageId": "sql"
    }
   },
   "outputs": [],
   "source": [
    "-- Add your query here\n",
    "select TOP 5 original_publication_year,title,average_rating from books where original_publication_year=2000 order by average_rating desc"
   ]
  },
  {
   "cell_type": "markdown",
   "metadata": {},
   "source": [
    "If you cannot think of a question you want to ask, here are some question examples to help jumpstart your brainstorming process:\n",
    "\n",
    "1. What book has the longest title?\n",
    "1. Which author has written the most books?\n",
    "1. What were the top ten books published the year I was born?"
   ]
  }
 ],
 "metadata": {
  "language_info": {
   "name": "python"
  }
 },
 "nbformat": 4,
 "nbformat_minor": 2
}
