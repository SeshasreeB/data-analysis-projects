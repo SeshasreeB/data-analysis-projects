{
 "cells": [
  {
   "cell_type": "markdown",
   "metadata": {},
   "source": [
    "# Exercises: Creating, Updating, and Destroying Objects\n",
    "\n",
    "For the exercises, you will be working with objects and data you create. Before opening this notebook, make sure that you have set up the new connection to the server and that you have located the database and your schema.\n",
    "\n",
    "## Object Creation\n",
    "\n",
    "Before coding, think of three things you want to make. These could be coding projects, new recipes, or planned projects for a woodworking hobby. Brainstorm the appropriate column names and data types as well.\n",
    "\n",
    "Create a table under your schema called `planned_makes`."
   ]
  },
  {
   "cell_type": "code",
   "execution_count": null,
   "metadata": {
    "vscode": {
     "languageId": "sql"
    }
   },
   "outputs": [],
   "source": [
    "USE Sep2025JunkDB\n",
    "CREATE TABLE sree_krishnamurthy.planned_makes\n",
    "(\n",
    "    recipe_id INT IDENTITY(1,1) PRIMARY KEY,\n",
    "    Recipe_Name VARCHAR(25),\n",
    "    ingredients VARCHAR(100),\n",
    "    instructions VARCHAR(500),\n",
    "    prep_time INT,\n",
    "    cook_time INT,\n",
    "    servings INT,\n",
    ");"
   ]
  },
  {
   "cell_type": "markdown",
   "metadata": {},
   "source": [
    "Add three rows to your table that are your planned makes."
   ]
  },
  {
   "cell_type": "code",
   "execution_count": null,
   "metadata": {
    "vscode": {
     "languageId": "sql"
    }
   },
   "outputs": [],
   "source": [
    "INSERT INTO sree_krishnamurthy.planned_makes\n",
    "VALUES \n",
    "('cake', 'flour,eggs,sugar,butter',  'Mix the dry ingredients and wet ingredients ,pour them in a pan and bake at 350F', 10,30,8),\n",
    "('Grilled Cheese sandwich','Bread,cheese,butter','spread butter on bread and layer with cheese and grill on stove',5,5,1),\n",
    "('Penne Rosa','Pasta, tomato-basil sauce,parmesan,veggies of choice','Boil pasta until al-dente,saute veggies, add tomato sauce, mix pasta and add cheese',5,15,4)\n",
    ";"
   ]
  },
  {
   "cell_type": "markdown",
   "metadata": {},
   "source": [
    "## Update a Row\n",
    "\n",
    "Change different values in one of your three rows."
   ]
  },
  {
   "cell_type": "code",
   "execution_count": null,
   "metadata": {
    "vscode": {
     "languageId": "sql"
    }
   },
   "outputs": [],
   "source": [
    "UPDATE sree_krishnamurthy.planned_makes\n",
    "SET Recipe_Name ='Butter Cake'\n",
    "WHERE recipe_id = 1;"
   ]
  },
  {
   "cell_type": "markdown",
   "metadata": {},
   "source": [
    "## Delete a Row\n",
    "\n",
    "Delete one of the rows from your table."
   ]
  },
  {
   "cell_type": "code",
   "execution_count": null,
   "metadata": {
    "vscode": {
     "languageId": "sql"
    }
   },
   "outputs": [],
   "source": [
    "DELETE from sree_krishnamurthy.planned_makes WHERE recipe_id=3\n"
   ]
  },
  {
   "cell_type": "markdown",
   "metadata": {},
   "source": [
    "## Drop the Table\n",
    "\n",
    "While this has been fun, it is time to drop the table!"
   ]
  },
  {
   "cell_type": "code",
   "execution_count": null,
   "metadata": {
    "vscode": {
     "languageId": "sql"
    }
   },
   "outputs": [],
   "source": [
    "DROP TABLE sree_krishnamurthy.planned_makes"
   ]
  }
 ],
 "metadata": {
  "language_info": {
   "name": "python"
  }
 },
 "nbformat": 4,
 "nbformat_minor": 2
}
